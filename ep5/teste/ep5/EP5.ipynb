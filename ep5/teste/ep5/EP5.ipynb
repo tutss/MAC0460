{
 "cells": [
  {
   "cell_type": "markdown",
   "metadata": {},
   "source": [
    "# EP 5\n",
    "## Artur Magalhães Rodrigues dos Santos - 10297734"
   ]
  },
  {
   "cell_type": "markdown",
   "metadata": {},
   "source": [
    "A proposta do EP é a de classificar os dígitos de 0 a 4, utilizando os algoritmo de SVM e redes neurais, ambos do *sklearn*."
   ]
  },
  {
   "cell_type": "code",
   "execution_count": 1,
   "metadata": {},
   "outputs": [
    {
     "name": "stderr",
     "output_type": "stream",
     "text": [
      "Using TensorFlow backend.\n"
     ]
    }
   ],
   "source": [
    "from keras.datasets import mnist\n",
    "from sklearn import svm\n",
    "from sklearn.neural_network import MLPClassifier\n",
    "import numpy as np\n",
    "import matplotlib.pyplot as plt\n",
    "import time as t"
   ]
  },
  {
   "cell_type": "markdown",
   "metadata": {},
   "source": [
    "# Recebendo o dataset"
   ]
  },
  {
   "cell_type": "markdown",
   "metadata": {},
   "source": [
    "Os dados são carregados pela função *load\\_data*, em que já podemos selecionar o número de classes desejadas."
   ]
  },
  {
   "cell_type": "code",
   "execution_count": 2,
   "metadata": {},
   "outputs": [],
   "source": [
    "(x_train, y_train), (x_test, y_test) = mnist.load_data()"
   ]
  },
  {
   "cell_type": "code",
   "execution_count": 3,
   "metadata": {},
   "outputs": [
    {
     "name": "stdout",
     "output_type": "stream",
     "text": [
      "MNIST train set shape:  (60000, 28, 28)  with labels shape:  (60000,)\n",
      "MNIST test set shape:  (10000, 28, 28)  with labels shape:  (10000,)\n"
     ]
    }
   ],
   "source": [
    "print('MNIST train set shape: ', x_train.shape, ' with labels shape: ', y_train.shape)\n",
    "\n",
    "print('MNIST test set shape: ', x_test.shape, ' with labels shape: ', y_test.shape)\n"
   ]
  },
  {
   "cell_type": "markdown",
   "metadata": {},
   "source": [
    "Carregamos o dataset, agora iremos visualizar alguns exemplos, como no EP4."
   ]
  },
  {
   "cell_type": "code",
   "execution_count": 4,
   "metadata": {},
   "outputs": [
    {
     "data": {
      "image/png": "[encoded data removed]",
      "text/plain": [
       "<Figure size 864x432 with 8 Axes>"
      ]
     },
     "metadata": {
      "needs_background": "light"
     },
     "output_type": "display_data"
    }
   ],
   "source": [
    "%matplotlib inline\n",
    "\n",
    "fig, ax = plt.subplots(2, 4, figsize = (12, 6))\n",
    "\n",
    "for i in range(8):\n",
    "    ax[i//4, i%4].imshow(x_train[i], cmap='gray')"
   ]
  },
  {
   "cell_type": "markdown",
   "metadata": {},
   "source": [
    "Vejamos quantos elementos pertencem as classes."
   ]
  },
  {
   "cell_type": "code",
   "execution_count": 5,
   "metadata": {
    "scrolled": true
   },
   "outputs": [
    {
     "name": "stdout",
     "output_type": "stream",
     "text": [
      "Label count:  [0, 0, 0, 0, 0, 0, 0, 0, 0, 0]\n",
      "Label count:  [5923, 6742, 5958, 6131, 5842, 5421, 5918, 6265, 5851, 5949]\n"
     ]
    }
   ],
   "source": [
    "label_count = [0 for i in range(10)]\n",
    "print('Label count: ', label_count)\n",
    "for label in y_train:\n",
    "    label_count[label] += 1\n",
    "print('Label count: ', label_count)"
   ]
  },
  {
   "cell_type": "markdown",
   "metadata": {},
   "source": [
    "# Manipulando a entrada"
   ]
  },
  {
   "cell_type": "markdown",
   "metadata": {},
   "source": [
    "Portanto, temos:\n",
    "- Classe 0: 5923\n",
    "- Classe 1: 6742\n",
    "- Classe 2: 5958\n",
    "- Classe 3: 6131\n",
    "- Classe 4: 5842\n",
    "- Classe 5: 5421\n",
    "- Classe 6: 5918\n",
    "- Classe 7: 6265\n",
    "- Classe 8: 5851\n",
    "- Classe 9: 5949\n",
    "\n",
    "Agora, iremos selecionar os 500 valores de cada classe que irão compor X\\_train. Portanto, 500 valores das classes i, i = 0, 1, 2, 3, 4"
   ]
  },
  {
   "cell_type": "code",
   "execution_count": 6,
   "metadata": {},
   "outputs": [],
   "source": [
    "selected_examples = []\n",
    "\n",
    "for i in range(0, 5):\n",
    "    count = 0\n",
    "    for j in range(len(x_train)):\n",
    "        if y_train[j] == i:\n",
    "            if count >= 500:\n",
    "                break\n",
    "            selected_examples.append((x_train[j], y_train[j]))\n",
    "            count += 1\n",
    "        \n",
    "selected_examples = np.array(selected_examples)"
   ]
  },
  {
   "cell_type": "markdown",
   "metadata": {},
   "source": [
    "Confirmando que temos 500 elementos de cada classe:"
   ]
  },
  {
   "cell_type": "code",
   "execution_count": 7,
   "metadata": {
    "scrolled": true
   },
   "outputs": [
    {
     "name": "stdout",
     "output_type": "stream",
     "text": [
      "2500\n",
      "(2500, 2)\n"
     ]
    }
   ],
   "source": [
    "print(len(selected_examples))\n",
    "print(selected_examples.shape)"
   ]
  },
  {
   "cell_type": "code",
   "execution_count": 8,
   "metadata": {},
   "outputs": [
    {
     "name": "stdout",
     "output_type": "stream",
     "text": [
      "X: \n"
     ]
    },
    {
     "data": {
      "image/png": "[encoded data removed]",
      "text/plain": [
       "<Figure size 432x288 with 1 Axes>"
      ]
     },
     "metadata": {
      "needs_background": "light"
     },
     "output_type": "display_data"
    },
    {
     "name": "stdout",
     "output_type": "stream",
     "text": [
      "Class:  1\n"
     ]
    }
   ],
   "source": [
    "print('X: ')\n",
    "plt.imshow(selected_examples[500][0], cmap='gray', vmin=0, vmax=255)\n",
    "plt.show()\n",
    "print('Class: ', selected_examples[500][1])"
   ]
  },
  {
   "cell_type": "markdown",
   "metadata": {},
   "source": [
    "Agora, iremos verificar os shapes de **X_train** e **Y_train**. Podemos notar que os valores de **X_train** ainda não sofreram o *flattening*, e ainda modicaremos a forma."
   ]
  },
  {
   "cell_type": "code",
   "execution_count": 9,
   "metadata": {},
   "outputs": [
    {
     "name": "stdout",
     "output_type": "stream",
     "text": [
      "X_train_tmp shape:  (2500,)\n",
      "Shape do valor em [0]:  (28, 28)\n",
      "X_train_tmp[0]: \n"
     ]
    },
    {
     "data": {
      "image/png": "[encoded data removed]",
      "text/plain": [
       "<Figure size 432x288 with 1 Axes>"
      ]
     },
     "metadata": {
      "needs_background": "light"
     },
     "output_type": "display_data"
    },
    {
     "name": "stdout",
     "output_type": "stream",
     "text": [
      "Value at Y_train_tmp[0]:  0\n",
      "Y_train shape:  (2500,)\n"
     ]
    }
   ],
   "source": [
    "X_train_tmp = selected_examples[:, 0]\n",
    "Y_train_tmp = selected_examples[:, 1]\n",
    "print('X_train_tmp shape: ', X_train_tmp.shape)\n",
    "print('Shape do valor em [0]: ', X_train_tmp[0].shape)\n",
    "print('X_train_tmp[0]: ')\n",
    "plt.imshow(X_train_tmp[0], cmap='gray', vmin=0, vmax=255)\n",
    "plt.show()\n",
    "print('Value at Y_train_tmp[0]: ', Y_train_tmp[0])\n",
    "print('Y_train shape: ', Y_train_tmp.shape)"
   ]
  },
  {
   "cell_type": "code",
   "execution_count": 10,
   "metadata": {},
   "outputs": [],
   "source": [
    "n = len(X_train_tmp)\n",
    "m = len(Y_train_tmp)"
   ]
  },
  {
   "cell_type": "markdown",
   "metadata": {},
   "source": [
    "Iremos permutar os valores, de forma que acessamos valores aleatórios:"
   ]
  },
  {
   "cell_type": "code",
   "execution_count": 11,
   "metadata": {},
   "outputs": [],
   "source": [
    "perm = np.random.permutation(n)\n",
    "X_train_tmp = X_train_tmp[perm]\n",
    "Y_train_tmp = Y_train_tmp[perm]"
   ]
  },
  {
   "cell_type": "code",
   "execution_count": 12,
   "metadata": {},
   "outputs": [
    {
     "data": {
      "text/plain": [
       "(28, 28)"
      ]
     },
     "execution_count": 12,
     "metadata": {},
     "output_type": "execute_result"
    }
   ],
   "source": [
    "X_train_tmp[0].shape"
   ]
  },
  {
   "cell_type": "code",
   "execution_count": 13,
   "metadata": {},
   "outputs": [
    {
     "data": {
      "image/png": "[encoded data removed]",
      "text/plain": [
       "<Figure size 432x288 with 1 Axes>"
      ]
     },
     "metadata": {
      "needs_background": "light"
     },
     "output_type": "display_data"
    },
    {
     "name": "stdout",
     "output_type": "stream",
     "text": [
      "Value at Y_train_tmp[0]:  0\n"
     ]
    }
   ],
   "source": [
    "plt.imshow(X_train_tmp[0], cmap='gray', vmin=0, vmax=255)\n",
    "plt.show()\n",
    "print('Value at Y_train_tmp[0]: ', Y_train_tmp[0])"
   ]
  },
  {
   "cell_type": "markdown",
   "metadata": {},
   "source": [
    "Na sequência, realizamos o *flattening* dos valores de **X_train**, modificando o *shape* para um array unidimensional com 784 colunas."
   ]
  },
  {
   "cell_type": "code",
   "execution_count": 14,
   "metadata": {},
   "outputs": [
    {
     "name": "stdout",
     "output_type": "stream",
     "text": [
      "(2500,)\n",
      "(1, 784)\n"
     ]
    }
   ],
   "source": [
    "for i in range(n):\n",
    "    X_train_tmp[i] = X_train_tmp[i].reshape((1, 784))\n",
    "\n",
    "print(X_train_tmp.shape)\n",
    "print(X_train_tmp[0].shape)"
   ]
  },
  {
   "cell_type": "code",
   "execution_count": 15,
   "metadata": {},
   "outputs": [
    {
     "data": {
      "text/plain": [
       "(1, 784)"
      ]
     },
     "execution_count": 15,
     "metadata": {},
     "output_type": "execute_result"
    }
   ],
   "source": [
    "X_train_tmp[0].shape"
   ]
  },
  {
   "cell_type": "code",
   "execution_count": 16,
   "metadata": {},
   "outputs": [
    {
     "data": {
      "text/plain": [
       "numpy.ndarray"
      ]
     },
     "execution_count": 16,
     "metadata": {},
     "output_type": "execute_result"
    }
   ],
   "source": [
    "type(X_train_tmp)"
   ]
  },
  {
   "cell_type": "markdown",
   "metadata": {},
   "source": [
    "Normalizando o vetor - escalando para valores entre 0 e 1:"
   ]
  },
  {
   "cell_type": "code",
   "execution_count": 17,
   "metadata": {},
   "outputs": [],
   "source": [
    "X_train = []\n",
    "max_value = 255\n",
    "for line in X_train_tmp:\n",
    "    X_train.append(line[0]/max_value)\n",
    "X_train = np.array(X_train)"
   ]
  },
  {
   "cell_type": "code",
   "execution_count": 18,
   "metadata": {},
   "outputs": [
    {
     "data": {
      "text/plain": [
       "(784,)"
      ]
     },
     "execution_count": 18,
     "metadata": {},
     "output_type": "execute_result"
    }
   ],
   "source": [
    "X_train[0].shape"
   ]
  },
  {
   "cell_type": "code",
   "execution_count": 19,
   "metadata": {},
   "outputs": [],
   "source": [
    "Y_train = []\n",
    "for i in range(m):\n",
    "    Y_train.append(int(Y_train_tmp[i]))\n",
    "Y_train = np.array(Y_train)"
   ]
  },
  {
   "cell_type": "code",
   "execution_count": 20,
   "metadata": {},
   "outputs": [
    {
     "data": {
      "text/plain": [
       "0"
      ]
     },
     "execution_count": 20,
     "metadata": {},
     "output_type": "execute_result"
    }
   ],
   "source": [
    "Y_train[0]"
   ]
  },
  {
   "cell_type": "markdown",
   "metadata": {},
   "source": [
    "Os shapes finais do conjunto de treinamento são apresentados abaixo."
   ]
  },
  {
   "cell_type": "code",
   "execution_count": 21,
   "metadata": {},
   "outputs": [
    {
     "name": "stdout",
     "output_type": "stream",
     "text": [
      "X_train shape: (2500, 784)\n",
      "Y_train shape: (2500,)\n"
     ]
    }
   ],
   "source": [
    "print('X_train shape: {}'.format(X_train.shape))\n",
    "print('Y_train shape: {}'.format(Y_train.shape))"
   ]
  },
  {
   "cell_type": "markdown",
   "metadata": {},
   "source": [
    "Os valores mínimos e máximos de cada um deles:"
   ]
  },
  {
   "cell_type": "code",
   "execution_count": 22,
   "metadata": {},
   "outputs": [
    {
     "name": "stdout",
     "output_type": "stream",
     "text": [
      "Valor mínimo: 0.0 e o valor máximo: 1.0 de X_train\n",
      "Valor mínimo: 0 e o valor máximo: 4 de Y_train\n"
     ]
    }
   ],
   "source": [
    "print('Valor mínimo: {} e o valor máximo: {} de X_train'.format(np.min(X_train), np.max(X_train)))\n",
    "print('Valor mínimo: {} e o valor máximo: {} de Y_train'.format(np.min(Y_train), np.max(Y_train)))"
   ]
  },
  {
   "cell_type": "markdown",
   "metadata": {},
   "source": [
    "Faremos as mesmas etapas para obter **X_test** e **Y_test**, a única diferença sendo que eles irão conter todos os exemplos de cada uma das classes desejadas (0 a 4)."
   ]
  },
  {
   "cell_type": "code",
   "execution_count": 23,
   "metadata": {},
   "outputs": [
    {
     "name": "stdout",
     "output_type": "stream",
     "text": [
      "Total de valores selecionados (todos com labels de 0 a 4 em x_test):  5139\n"
     ]
    }
   ],
   "source": [
    "selected_test_examples = []\n",
    "\n",
    "for i in range(0, 5):\n",
    "    for j in range(len(x_test)):\n",
    "        if y_test[j] == i:\n",
    "            selected_test_examples.append((x_test[j], y_test[j]))\n",
    "            \n",
    "selected_test_examples = np.array(selected_test_examples)\n",
    "print('Total de valores selecionados (todos com labels de 0 a 4 em x_test): ', len(selected_test_examples))"
   ]
  },
  {
   "cell_type": "markdown",
   "metadata": {},
   "source": [
    "Selecionando **X_test** e **Y_test**, e verificando os shapes:"
   ]
  },
  {
   "cell_type": "code",
   "execution_count": 24,
   "metadata": {},
   "outputs": [
    {
     "name": "stdout",
     "output_type": "stream",
     "text": [
      "X_test_tmp shape:  (5139,)\n",
      "Value at X_test_tmp[0]:  (28, 28)\n",
      "Y_test_tmp shape:  (5139,)\n",
      "Valeu at [0]:  0\n"
     ]
    }
   ],
   "source": [
    "X_test_tmp = selected_test_examples[:, 0]\n",
    "Y_test_tmp = selected_test_examples[:, 1]\n",
    "print('X_test_tmp shape: ', X_test_tmp.shape)\n",
    "print('Value at X_test_tmp[0]: ', X_test_tmp[0].shape)\n",
    "print('Y_test_tmp shape: ', Y_test_tmp.shape)\n",
    "print('Valeu at [0]: ', Y_test_tmp[0])"
   ]
  },
  {
   "cell_type": "code",
   "execution_count": 25,
   "metadata": {},
   "outputs": [],
   "source": [
    "n_test = len(X_test_tmp)\n",
    "m_test = len(Y_test_tmp)"
   ]
  },
  {
   "cell_type": "markdown",
   "metadata": {},
   "source": [
    "Permutando os elementos dentro das duas matrizes:"
   ]
  },
  {
   "cell_type": "code",
   "execution_count": 26,
   "metadata": {},
   "outputs": [],
   "source": [
    "perm_test = np.random.permutation(n_test)\n",
    "X_test_tmp = X_test_tmp[perm_test]\n",
    "Y_test_tmp = Y_test_tmp[perm_test]"
   ]
  },
  {
   "cell_type": "markdown",
   "metadata": {},
   "source": [
    "Realizando o *flattening*:"
   ]
  },
  {
   "cell_type": "code",
   "execution_count": 27,
   "metadata": {},
   "outputs": [
    {
     "name": "stdout",
     "output_type": "stream",
     "text": [
      "(5139,)\n",
      "(1, 784)\n"
     ]
    }
   ],
   "source": [
    "for i in range(n_test):\n",
    "    X_test_tmp[i] = X_test_tmp[i].reshape((1, 784))\n",
    "print(X_test_tmp.shape)\n",
    "print(X_test_tmp[0].shape)"
   ]
  },
  {
   "cell_type": "markdown",
   "metadata": {},
   "source": [
    "Normalizando:"
   ]
  },
  {
   "cell_type": "code",
   "execution_count": 28,
   "metadata": {},
   "outputs": [],
   "source": [
    "X_test = []\n",
    "max_test_value = 255\n",
    "for line in X_test_tmp:\n",
    "    X_test.append(line[0]/max_test_value)\n",
    "X_test = np.array(X_test)"
   ]
  },
  {
   "cell_type": "code",
   "execution_count": 29,
   "metadata": {},
   "outputs": [],
   "source": [
    "Y_test = []\n",
    "for line in Y_test_tmp:\n",
    "    Y_test.append(int(line))\n",
    "Y_test = np.array(Y_test)"
   ]
  },
  {
   "cell_type": "markdown",
   "metadata": {},
   "source": [
    "Os shapes finais do conjunto de testes:"
   ]
  },
  {
   "cell_type": "code",
   "execution_count": 30,
   "metadata": {},
   "outputs": [
    {
     "name": "stdout",
     "output_type": "stream",
     "text": [
      "X_test shape: (5139, 784)\n",
      "Y_test shape: (5139,)\n"
     ]
    }
   ],
   "source": [
    "print('X_test shape: {}'.format(X_test.shape))\n",
    "print('Y_test shape: {}'.format(Y_test.shape))"
   ]
  },
  {
   "cell_type": "markdown",
   "metadata": {},
   "source": [
    "Os valores mínimos e máximos de cada um deles:"
   ]
  },
  {
   "cell_type": "code",
   "execution_count": 31,
   "metadata": {},
   "outputs": [
    {
     "name": "stdout",
     "output_type": "stream",
     "text": [
      "Valor mínimo: 0.0 e o valor máximo: 1.0 de X_test\n",
      "Valor mínimo: 0 e o valor máximo: 4 de Y_test\n"
     ]
    }
   ],
   "source": [
    "print('Valor mínimo: {} e o valor máximo: {} de X_test'.format(np.min(X_test), np.max(X_test)))\n",
    "print('Valor mínimo: {} e o valor máximo: {} de Y_test'.format(np.min(Y_test), np.max(Y_test)))"
   ]
  },
  {
   "cell_type": "markdown",
   "metadata": {},
   "source": [
    "# Treinamento e validação"
   ]
  },
  {
   "cell_type": "markdown",
   "metadata": {},
   "source": [
    "Guardamos os folds em um vetor:"
   ]
  },
  {
   "cell_type": "code",
   "execution_count": 32,
   "metadata": {},
   "outputs": [],
   "source": [
    "num_folds = 5\n",
    "frac = 1/num_folds\n",
    "fold_size = int(frac * n)\n",
    "X_folds = [None for i in range(num_folds)]\n",
    "Y_folds = [None for i in range(num_folds)]\n",
    "for i in range(num_folds):\n",
    "    X_folds[i] = X_train[i * fold_size : (i + 1) * fold_size]\n",
    "    Y_folds[i] = Y_train[i * fold_size : (i + 1) * fold_size]"
   ]
  },
  {
   "cell_type": "markdown",
   "metadata": {},
   "source": [
    "Recapitulando o que temos em cada um dos vetores:"
   ]
  },
  {
   "cell_type": "code",
   "execution_count": 33,
   "metadata": {},
   "outputs": [
    {
     "name": "stdout",
     "output_type": "stream",
     "text": [
      "X_folds na casa i tem shape (500, 784), e do tipo <class 'numpy.ndarray'>\n",
      "Cada linha na casa i tem shape (784,)\n",
      "E representa um exemplo:\n",
      "[0.         0.         0.         0.         0.         0.\n",
      " 0.         0.         0.         0.         0.         0.\n",
      " 0.         0.         0.         0.         0.         0.\n",
      " 0.         0.         0.         0.         0.         0.\n",
      " 0.         0.         0.         0.         0.         0.\n",
      " 0.         0.         0.         0.         0.         0.\n",
      " 0.         0.         0.         0.         0.         0.\n",
      " 0.         0.         0.         0.         0.         0.\n",
      " 0.         0.         0.         0.         0.         0.\n",
      " 0.         0.         0.         0.         0.         0.\n",
      " 0.         0.         0.         0.         0.         0.\n",
      " 0.         0.         0.         0.         0.         0.\n",
      " 0.         0.         0.         0.         0.         0.\n",
      " 0.         0.         0.         0.         0.         0.\n",
      " 0.         0.         0.         0.         0.         0.\n",
      " 0.         0.         0.         0.         0.         0.21960784\n",
      " 0.96862745 0.4745098  0.         0.         0.         0.\n",
      " 0.         0.         0.         0.         0.         0.\n",
      " 0.         0.         0.         0.         0.         0.\n",
      " 0.         0.         0.         0.         0.         0.\n",
      " 0.         0.         0.         0.09411765 0.94901961 0.96078431\n",
      " 0.47843137 0.         0.         0.         0.         0.\n",
      " 0.         0.         0.         0.         0.         0.\n",
      " 0.         0.         0.         0.         0.         0.\n",
      " 0.         0.         0.         0.         0.         0.\n",
      " 0.         0.         0.90588235 0.99215686 0.99215686 0.40784314\n",
      " 0.04705882 0.         0.         0.         0.         0.\n",
      " 0.         0.         0.         0.         0.         0.\n",
      " 0.         0.         0.         0.         0.         0.\n",
      " 0.         0.         0.         0.         0.         0.\n",
      " 0.35294118 0.99215686 0.99215686 0.99607843 0.86666667 0.47058824\n",
      " 0.47058824 0.33333333 0.         0.         0.         0.\n",
      " 0.         0.         0.         0.         0.         0.\n",
      " 0.         0.         0.         0.         0.         0.\n",
      " 0.         0.2627451  0.29411765 0.14117647 0.04313725 0.21960784\n",
      " 0.87058824 0.99607843 0.99215686 0.99215686 0.99215686 0.96078431\n",
      " 0.81176471 0.14117647 0.         0.         0.         0.\n",
      " 0.         0.         0.         0.         0.         0.\n",
      " 0.         0.         0.         0.         0.3372549  0.96078431\n",
      " 0.97647059 0.41176471 0.         0.         0.17254902 0.87843137\n",
      " 0.90196078 0.99215686 0.99215686 0.99215686 0.99215686 0.83921569\n",
      " 0.03921569 0.         0.         0.         0.         0.\n",
      " 0.         0.         0.         0.         0.         0.\n",
      " 0.         0.03137255 0.74901961 0.99215686 0.56078431 0.\n",
      " 0.         0.         0.         0.         0.11372549 0.46666667\n",
      " 0.46666667 0.61960784 0.99215686 0.99215686 0.36862745 0.\n",
      " 0.         0.         0.         0.         0.         0.\n",
      " 0.         0.         0.         0.         0.         0.05882353\n",
      " 0.99215686 0.88627451 0.18823529 0.         0.         0.\n",
      " 0.         0.         0.         0.         0.         0.01568627\n",
      " 0.71764706 0.99215686 0.97254902 0.21960784 0.         0.\n",
      " 0.         0.         0.         0.         0.         0.\n",
      " 0.         0.         0.         0.16470588 0.99215686 0.69803922\n",
      " 0.         0.         0.         0.         0.         0.\n",
      " 0.         0.         0.         0.         0.70196078 0.99215686\n",
      " 0.72156863 0.05490196 0.         0.         0.         0.\n",
      " 0.         0.         0.         0.         0.         0.\n",
      " 0.         0.64313725 0.99215686 0.69803922 0.         0.\n",
      " 0.         0.         0.         0.         0.         0.\n",
      " 0.         0.         0.70196078 0.99215686 0.63921569 0.\n",
      " 0.         0.         0.         0.         0.         0.\n",
      " 0.         0.         0.         0.         0.23921569 0.99607843\n",
      " 0.99607843 0.70196078 0.         0.         0.         0.\n",
      " 0.         0.         0.         0.         0.         0.29803922\n",
      " 0.99607843 0.99607843 0.64313725 0.         0.         0.\n",
      " 0.         0.         0.         0.         0.         0.\n",
      " 0.         0.         0.23529412 0.99215686 0.99215686 0.69803922\n",
      " 0.         0.         0.         0.         0.         0.\n",
      " 0.         0.         0.11372549 0.80784314 0.99215686 0.99215686\n",
      " 0.15686275 0.         0.         0.         0.         0.\n",
      " 0.         0.         0.         0.         0.         0.\n",
      " 0.23529412 0.99215686 0.99215686 0.69803922 0.         0.\n",
      " 0.         0.         0.         0.         0.         0.\n",
      " 0.47058824 0.99215686 0.99215686 0.96078431 0.05098039 0.\n",
      " 0.         0.         0.         0.         0.         0.\n",
      " 0.         0.         0.         0.         0.23529412 0.99215686\n",
      " 0.99215686 0.69803922 0.         0.         0.         0.\n",
      " 0.         0.         0.         0.         0.47058824 0.99215686\n",
      " 0.9372549  0.24705882 0.         0.         0.         0.\n",
      " 0.         0.         0.         0.         0.         0.\n",
      " 0.         0.         0.23529412 0.99215686 0.99215686 0.69803922\n",
      " 0.         0.         0.         0.         0.         0.\n",
      " 0.         0.05490196 0.93333333 0.99215686 0.70196078 0.\n",
      " 0.         0.         0.         0.         0.         0.\n",
      " 0.         0.         0.         0.         0.         0.\n",
      " 0.07058824 0.74509804 0.99215686 0.90588235 0.2745098  0.\n",
      " 0.         0.         0.         0.         0.16862745 0.72156863\n",
      " 0.99215686 0.99215686 0.29019608 0.         0.         0.\n",
      " 0.         0.         0.         0.         0.         0.\n",
      " 0.         0.         0.         0.         0.         0.3372549\n",
      " 0.99215686 0.99215686 0.9372549  0.5254902  0.03137255 0.\n",
      " 0.         0.21960784 0.63921569 0.99215686 0.99215686 0.83529412\n",
      " 0.1372549  0.         0.         0.         0.         0.\n",
      " 0.         0.         0.         0.         0.         0.\n",
      " 0.         0.         0.         0.0627451  0.99215686 0.99215686\n",
      " 0.99215686 0.99215686 0.94117647 0.9372549  0.9372549  0.96862745\n",
      " 0.99215686 0.99215686 0.82352941 0.10588235 0.         0.\n",
      " 0.         0.         0.         0.         0.         0.\n",
      " 0.         0.         0.         0.         0.         0.\n",
      " 0.         0.01568627 0.23137255 0.8        0.99215686 0.99215686\n",
      " 0.99215686 0.99215686 0.99215686 0.99607843 0.99215686 0.98039216\n",
      " 0.43137255 0.         0.         0.         0.         0.\n",
      " 0.         0.         0.         0.         0.         0.\n",
      " 0.         0.         0.         0.         0.         0.\n",
      " 0.         0.12156863 0.47843137 0.99215686 0.99215686 0.99215686\n",
      " 0.99215686 1.         0.85098039 0.38431373 0.         0.\n",
      " 0.         0.         0.         0.         0.         0.\n",
      " 0.         0.         0.         0.         0.         0.\n",
      " 0.         0.         0.         0.         0.         0.\n",
      " 0.         0.         0.         0.         0.         0.\n",
      " 0.         0.         0.         0.         0.         0.\n",
      " 0.         0.         0.         0.         0.         0.\n",
      " 0.         0.         0.         0.         0.         0.\n",
      " 0.         0.         0.         0.         0.         0.\n",
      " 0.         0.         0.         0.         0.         0.\n",
      " 0.         0.         0.         0.         0.         0.\n",
      " 0.         0.         0.         0.         0.         0.\n",
      " 0.         0.         0.         0.         0.         0.\n",
      " 0.         0.         0.         0.         0.         0.\n",
      " 0.         0.         0.         0.         0.         0.\n",
      " 0.         0.         0.         0.         0.         0.\n",
      " 0.         0.         0.         0.         0.         0.\n",
      " 0.         0.         0.         0.         0.         0.\n",
      " 0.         0.         0.         0.         0.         0.\n",
      " 0.         0.         0.         0.         0.         0.\n",
      " 0.         0.         0.         0.         0.         0.\n",
      " 0.         0.         0.         0.         0.         0.\n",
      " 0.         0.         0.         0.         0.         0.\n",
      " 0.         0.         0.         0.         0.         0.\n",
      " 0.         0.         0.         0.         0.         0.\n",
      " 0.         0.         0.         0.        ]  do tipo  <class 'numpy.ndarray'>\n"
     ]
    }
   ],
   "source": [
    "print('X_folds na casa i tem shape {}, e do tipo {}'.format(X_folds[0].shape, type(X_folds[0])))\n",
    "print('Cada linha na casa i tem shape {}'.format(X_folds[0][0].shape))\n",
    "print('E representa um exemplo:')\n",
    "print(X_folds[0][0], ' do tipo ', type(X_folds[0][0]))"
   ]
  },
  {
   "cell_type": "code",
   "execution_count": 34,
   "metadata": {},
   "outputs": [
    {
     "data": {
      "image/png": "[encoded data removed]",
      "text/plain": [
       "<Figure size 432x288 with 1 Axes>"
      ]
     },
     "metadata": {
      "needs_background": "light"
     },
     "output_type": "display_data"
    }
   ],
   "source": [
    "plt.imshow(X_folds[0][0].reshape(28,28)*255, cmap='gray')\n",
    "plt.show()"
   ]
  },
  {
   "cell_type": "code",
   "execution_count": 35,
   "metadata": {},
   "outputs": [
    {
     "name": "stdout",
     "output_type": "stream",
     "text": [
      "Y_folds na casa i tem shape (500,), e tipo <class 'numpy.ndarray'>\n",
      "Cada linha na casa i tem valor 0\n",
      "E representa um label:\n",
      "0  de tipo  <class 'numpy.int64'>\n"
     ]
    }
   ],
   "source": [
    "print('Y_folds na casa i tem shape {}, e tipo {}'.format(Y_folds[0].shape, type(Y_folds[0])))\n",
    "print('Cada linha na casa i tem valor {}'.format(Y_folds[0][0]))\n",
    "print('E representa um label:')\n",
    "print(Y_folds[0][0], ' de tipo ', type(Y_folds[0][0]))"
   ]
  },
  {
   "cell_type": "markdown",
   "metadata": {},
   "source": [
    "Checando quantos elementos estão em cada *fold*, podemos garantir que eles foram gerados da maneira apropriada."
   ]
  },
  {
   "cell_type": "code",
   "execution_count": 36,
   "metadata": {
    "scrolled": false
   },
   "outputs": [
    {
     "name": "stdout",
     "output_type": "stream",
     "text": [
      "Fold 0 contains 500 elements for X\n",
      "Fold 0 contains 500 elements for Y\n",
      "\n",
      "Fold 1 contains 500 elements for X\n",
      "Fold 1 contains 500 elements for Y\n",
      "\n",
      "Fold 2 contains 500 elements for X\n",
      "Fold 2 contains 500 elements for Y\n",
      "\n",
      "Fold 3 contains 500 elements for X\n",
      "Fold 3 contains 500 elements for Y\n",
      "\n",
      "Fold 4 contains 500 elements for X\n",
      "Fold 4 contains 500 elements for Y\n",
      "\n"
     ]
    }
   ],
   "source": [
    "for i in range(0, 5):\n",
    "    print(\"Fold {} contains {} elements for X\".format(i, len(X_folds[i])))\n",
    "    print(\"Fold {} contains {} elements for Y\\n\".format(i, len(Y_folds[i])))"
   ]
  },
  {
   "cell_type": "markdown",
   "metadata": {},
   "source": [
    "Para efetuar o *cross validation*, iremos escolher os classificadores com base na sugestão do enunciado:\n",
    "- classificador SVM, kernel RBF, $\\gamma = 0.05$ e $C = 5$ \n",
    "- *Multi-layer perceptron* com duas camadas ocultas, escolhendo o número de nós e o *learning rate*."
   ]
  },
  {
   "cell_type": "code",
   "execution_count": 37,
   "metadata": {},
   "outputs": [],
   "source": [
    "svm_scores = []\n",
    "nn_scores = []"
   ]
  },
  {
   "cell_type": "code",
   "execution_count": 38,
   "metadata": {},
   "outputs": [
    {
     "name": "stdout",
     "output_type": "stream",
     "text": [
      "\n",
      "#######################\n",
      "Fold 0 selecionado para validação\n",
      "Shape do X de validação: (500, 784)\n",
      "Shape do y de validação: (500,)\n",
      "2000 elementos selecionados para treino\n",
      "Dimensões do set X de treino: (2000, 784)\n",
      "Dimensões do set y de treino: (2000,)\n",
      "\n",
      "Realizando o fit...\n",
      "\tFit SVM...\n",
      "\tFit SVM terminado! (Tempo: 82.759)\n",
      "\tFit MLP...\n",
      "\tFit MLP terminado! \n",
      "Fit realizado! (Tempo: 28.921)\n",
      "\n",
      "Calculando os scores...\n",
      "SVM score: 0.974\n",
      "NN score: 0.974\n",
      "Time: 122.36\n",
      "\n",
      "\n",
      "#######################\n",
      "Fold 1 selecionado para validação\n",
      "Shape do X de validação: (500, 784)\n",
      "Shape do y de validação: (500,)\n",
      "2000 elementos selecionados para treino\n",
      "Dimensões do set X de treino: (2000, 784)\n",
      "Dimensões do set y de treino: (2000,)\n",
      "\n",
      "Realizando o fit...\n",
      "\tFit SVM...\n",
      "\tFit SVM terminado! (Tempo: 77.070)\n",
      "\tFit MLP...\n",
      "\tFit MLP terminado! \n",
      "Fit realizado! (Tempo: 15.117)\n",
      "\n",
      "Calculando os scores...\n",
      "SVM score: 0.982\n",
      "NN score: 0.974\n",
      "Time: 100.31\n",
      "\n",
      "\n",
      "#######################\n",
      "Fold 2 selecionado para validação\n",
      "Shape do X de validação: (500, 784)\n",
      "Shape do y de validação: (500,)\n",
      "2000 elementos selecionados para treino\n",
      "Dimensões do set X de treino: (2000, 784)\n",
      "Dimensões do set y de treino: (2000,)\n",
      "\n",
      "Realizando o fit...\n",
      "\tFit SVM...\n",
      "\tFit SVM terminado! (Tempo: 58.577)\n",
      "\tFit MLP...\n",
      "\tFit MLP terminado! \n",
      "Fit realizado! (Tempo: 13.324)\n",
      "\n",
      "Calculando os scores...\n",
      "SVM score: 0.974\n",
      "NN score: 0.966\n",
      "Time: 79.98\n",
      "\n",
      "\n",
      "#######################\n",
      "Fold 3 selecionado para validação\n",
      "Shape do X de validação: (500, 784)\n",
      "Shape do y de validação: (500,)\n",
      "2000 elementos selecionados para treino\n",
      "Dimensões do set X de treino: (2000, 784)\n",
      "Dimensões do set y de treino: (2000,)\n",
      "\n",
      "Realizando o fit...\n",
      "\tFit SVM...\n",
      "\tFit SVM terminado! (Tempo: 57.999)\n",
      "\tFit MLP...\n",
      "\tFit MLP terminado! \n",
      "Fit realizado! (Tempo: 13.362)\n",
      "\n",
      "Calculando os scores...\n",
      "SVM score: 0.974\n",
      "NN score: 0.974\n",
      "Time: 79.42\n",
      "\n",
      "\n",
      "#######################\n",
      "Fold 4 selecionado para validação\n",
      "Shape do X de validação: (500, 784)\n",
      "Shape do y de validação: (500,)\n",
      "2000 elementos selecionados para treino\n",
      "Dimensões do set X de treino: (2000, 784)\n",
      "Dimensões do set y de treino: (2000,)\n",
      "\n",
      "Realizando o fit...\n",
      "\tFit SVM...\n",
      "\tFit SVM terminado! (Tempo: 57.927)\n",
      "\tFit MLP...\n",
      "\tFit MLP terminado! \n",
      "Fit realizado! (Tempo: 11.366)\n",
      "\n",
      "Calculando os scores...\n",
      "SVM score: 0.99\n",
      "NN score: 0.974\n",
      "Time: 77.29\n",
      "\n",
      "Tempo final: 459.37\n",
      "Scores do SVM: [0.974, 0.982, 0.974, 0.974, 0.99] com média 0.9788\n",
      "Scores da NN: [0.974, 0.974, 0.966, 0.974, 0.974] com média 0.9724\n"
     ]
    }
   ],
   "source": [
    "s = t.time()\n",
    "\n",
    "for i in range(num_folds):\n",
    "    ts = t.time()\n",
    "    # seleciono um fold\n",
    "    print('\\n#######################\\nFold {} selecionado para validação'.format(i))\n",
    "    x_val = X_folds[i] \n",
    "    y_val = Y_folds[i] \n",
    "    print('Shape do X de validação: {}'.format(x_val.shape))\n",
    "    print('Shape do y de validação: {}'.format(y_val.shape))\n",
    "\n",
    "    X_remain_folds = []\n",
    "    Y_remain_folds = []\n",
    "    for k in range(num_folds):\n",
    "        if k != i:\n",
    "            for elem in range(fold_size):\n",
    "                X_remain_folds.append(X_folds[k][elem])\n",
    "                Y_remain_folds.append(Y_folds[k][elem])\n",
    "    print('{} elementos selecionados para treino'.format(len(X_remain_folds)))\n",
    "\n",
    "    X_remain_folds = np.array(X_remain_folds)\n",
    "    Y_remain_folds = np.array(Y_remain_folds)\n",
    "    print('Dimensões do set X de treino: {}'.format(X_remain_folds.shape))\n",
    "    print('Dimensões do set y de treino: {}'.format(Y_remain_folds.shape))\n",
    "    \n",
    "    # classificacao\n",
    "    print('\\nRealizando o fit...')\n",
    "    svm_clf = svm.SVC(kernel='rbf', C = 5.0, gamma=0.05)\n",
    "    nn_clf = MLPClassifier(hidden_layer_sizes=(100, 50, 10), learning_rate_init=0.01)\n",
    "    print('\\tFit SVM...')\n",
    "    svm_time = t.time()\n",
    "    svm_clf.fit(X_remain_folds, Y_remain_folds)\n",
    "    print('\\tFit SVM terminado! (Tempo: {:.3f})'.format(t.time() - svm_time))\n",
    "    \n",
    "    print('\\tFit MLP...')\n",
    "    nn_time = t.time()\n",
    "    nn_clf.fit(X_remain_folds, Y_remain_folds)\n",
    "    print('\\tFit MLP terminado! ')\n",
    "    print('Fit realizado! (Tempo: {:.3f})'.format(t.time() - nn_time))\n",
    "\n",
    "    # calculo os scores\n",
    "    print('\\nCalculando os scores...')\n",
    "    svm_score = svm_clf.score(x_val, y_val)\n",
    "    nn_score = nn_clf.score(x_val, y_val)\n",
    "    print('SVM score: {}'.format(svm_score))\n",
    "    print('NN score: {}'.format(nn_score))\n",
    "    svm_scores.append(svm_score)\n",
    "    nn_scores.append(nn_score)\n",
    "    print('Time: {:.2f}\\n'.format(t.time() - ts))\n",
    "\n",
    "print('Tempo final: {:.2f}'.format(t.time() - s))\n",
    "print('Scores do SVM: {} com média {}'.format(svm_scores, np.mean(svm_scores)))\n",
    "print('Scores da NN: {} com média {}'.format(nn_scores, np.mean(nn_scores)))"
   ]
  },
  {
   "cell_type": "markdown",
   "metadata": {},
   "source": [
    "Os resultados dos *scores* podem ser observados abaixo."
   ]
  },
  {
   "cell_type": "code",
   "execution_count": 39,
   "metadata": {
    "scrolled": true
   },
   "outputs": [
    {
     "name": "stdout",
     "output_type": "stream",
     "text": [
      "Scores do SVM são [0.974, 0.982, 0.974, 0.974, 0.99], o maior deles sendo 0.99\n",
      "Scores do MLP são [0.974, 0.974, 0.966, 0.974, 0.974], o maior deles sendo 0.974\n"
     ]
    }
   ],
   "source": [
    "print('Scores do SVM são {}, o maior deles sendo {}'.format(svm_scores, max(svm_scores)))\n",
    "print('Scores do MLP são {}, o maior deles sendo {}'.format(nn_scores, max(nn_scores)))"
   ]
  },
  {
   "cell_type": "markdown",
   "metadata": {},
   "source": [
    "Para SVM, validar com o fold 5 levou a um melhor resultado de classificação."
   ]
  },
  {
   "cell_type": "markdown",
   "metadata": {},
   "source": [
    "Para MLP, validar com o fold 5 levou a um melhor resultado de classificação."
   ]
  },
  {
   "cell_type": "markdown",
   "metadata": {},
   "source": [
    "A título de curiosidade, podemos testar a validação cruzada do *sklearn*."
   ]
  },
  {
   "cell_type": "code",
   "execution_count": 40,
   "metadata": {},
   "outputs": [],
   "source": [
    "from sklearn.model_selection import cross_val_score"
   ]
  },
  {
   "cell_type": "code",
   "execution_count": 41,
   "metadata": {},
   "outputs": [
    {
     "name": "stdout",
     "output_type": "stream",
     "text": [
      "Tempo decorrido: 64.28\n",
      "Resultados obtidos: [0.974 0.982 0.976 0.972 0.988]\n"
     ]
    }
   ],
   "source": [
    "clf = svm.SVC(kernel='rbf', C = 5.0, gamma=0.05)\n",
    "s = t.time()\n",
    "scores = cross_val_score(clf, X_train, Y_train, cv=5)\n",
    "print('Tempo decorrido: {:.2f}'.format(t.time() - s))\n",
    "print('Resultados obtidos: {}'.format(scores))"
   ]
  },
  {
   "cell_type": "markdown",
   "metadata": {},
   "source": [
    "Os classificadores obtiveram resultados próximos em suas respectivas melhores performances. Entretanto, a média nos indica que o SVM apresentou melhores resultados, e portanto, iremos selecioná-lo."
   ]
  },
  {
   "cell_type": "code",
   "execution_count": 42,
   "metadata": {},
   "outputs": [],
   "source": [
    "# criando o classificador\n",
    "best_svm_clf = svm.SVC(kernel='rbf', C=5.0, gamma=0.05)\n",
    "# score no teste\n",
    "y_pred = best_svm_clf.fit(X_train, Y_train).predict(X_test)"
   ]
  },
  {
   "cell_type": "code",
   "execution_count": 43,
   "metadata": {},
   "outputs": [
    {
     "name": "stdout",
     "output_type": "stream",
     "text": [
      "<class 'numpy.ndarray'>\n"
     ]
    }
   ],
   "source": [
    "print(type(y_pred))"
   ]
  },
  {
   "cell_type": "code",
   "execution_count": 44,
   "metadata": {},
   "outputs": [
    {
     "data": {
      "text/plain": [
       "0.9852111305701499"
      ]
     },
     "execution_count": 44,
     "metadata": {},
     "output_type": "execute_result"
    }
   ],
   "source": [
    "best_score = best_svm_clf.score(X_test, Y_test)\n",
    "best_score"
   ]
  },
  {
   "cell_type": "code",
   "execution_count": 45,
   "metadata": {
    "scrolled": true
   },
   "outputs": [
    {
     "name": "stdout",
     "output_type": "stream",
     "text": [
      "Confusion Matrix: \n",
      "[[ 971    0    6    3    0]\n",
      " [   0 1117   15    3    0]\n",
      " [   5    1 1015    8    3]\n",
      " [   0    0   17  990    3]\n",
      " [   1    0   11    0  970]]\n"
     ]
    }
   ],
   "source": [
    "from sklearn.metrics import confusion_matrix\n",
    "conf_matrix = confusion_matrix(Y_test, y_pred)\n",
    "print('Confusion Matrix: ')\n",
    "print(conf_matrix)"
   ]
  },
  {
   "cell_type": "markdown",
   "metadata": {},
   "source": [
    "O plot da matriz de confusão, mostrado a seguir, foi retirado do próprio site do [*sklearn*](https://scikit-learn.org/stable/auto_examples/model_selection/plot_confusion_matrix.html), e demonstra os erros e acertos do modelo proposto."
   ]
  },
  {
   "cell_type": "code",
   "execution_count": 46,
   "metadata": {},
   "outputs": [],
   "source": [
    "from sklearn.utils.multiclass import unique_labels"
   ]
  },
  {
   "cell_type": "code",
   "execution_count": 47,
   "metadata": {},
   "outputs": [
    {
     "name": "stdout",
     "output_type": "stream",
     "text": [
      "Confusion matrix, without normalization\n",
      "[[ 971    0    6    3    0]\n",
      " [   0 1117   15    3    0]\n",
      " [   5    1 1015    8    3]\n",
      " [   0    0   17  990    3]\n",
      " [   1    0   11    0  970]]\n",
      "Normalized confusion matrix\n",
      "[[9.90816327e-01 0.00000000e+00 6.12244898e-03 3.06122449e-03\n",
      "  0.00000000e+00]\n",
      " [0.00000000e+00 9.84140969e-01 1.32158590e-02 2.64317181e-03\n",
      "  0.00000000e+00]\n",
      " [4.84496124e-03 9.68992248e-04 9.83527132e-01 7.75193798e-03\n",
      "  2.90697674e-03]\n",
      " [0.00000000e+00 0.00000000e+00 1.68316832e-02 9.80198020e-01\n",
      "  2.97029703e-03]\n",
      " [1.01832994e-03 0.00000000e+00 1.12016293e-02 0.00000000e+00\n",
      "  9.87780041e-01]]\n"
     ]
    },
    {
     "data": {
      "image/png": "[encoded data removed]",
      "text/plain": [
       "<Figure size 432x288 with 2 Axes>"
      ]
     },
     "metadata": {
      "needs_background": "light"
     },
     "output_type": "display_data"
    },
    {
     "data": {
      "image/png": "[encoded data removed]",
      "text/plain": [
       "<Figure size 432x288 with 2 Axes>"
      ]
     },
     "metadata": {
      "needs_background": "light"
     },
     "output_type": "display_data"
    }
   ],
   "source": [
    "def plot_confusion_matrix(y_true, y_pred, classes,\n",
    "                          normalize=False,\n",
    "                          title=None,\n",
    "                          cmap=plt.cm.Blues):\n",
    "    \"\"\"\n",
    "    This function prints and plots the confusion matrix.\n",
    "    Normalization can be applied by setting `normalize=True`.\n",
    "    \"\"\"\n",
    "    if not title:\n",
    "        if normalize:\n",
    "            title = 'Normalized confusion matrix'\n",
    "        else:\n",
    "            title = 'Confusion matrix, without normalization'\n",
    "\n",
    "    # Compute confusion matrix\n",
    "    cm = confusion_matrix(y_true, y_pred)\n",
    "    # Only use the labels that appear in the data\n",
    "#     classes = classes[unique_labels(y_true, y_pred)]\n",
    "    if normalize:\n",
    "        cm = cm.astype('float') / cm.sum(axis=1)[:, np.newaxis]\n",
    "        print(\"Normalized confusion matrix\")\n",
    "    else:\n",
    "        print('Confusion matrix, without normalization')\n",
    "\n",
    "    print(cm)\n",
    "\n",
    "    fig, ax = plt.subplots()\n",
    "    im = ax.imshow(cm, interpolation='nearest', cmap=cmap)\n",
    "    ax.figure.colorbar(im, ax=ax)\n",
    "    # We want to show all ticks...\n",
    "    ax.set(xticks=np.arange(cm.shape[1]),\n",
    "           yticks=np.arange(cm.shape[0]),\n",
    "           # ... and label them with the respective list entries\n",
    "           xticklabels=classes, yticklabels=classes,\n",
    "           title=title,\n",
    "           ylabel='True label',\n",
    "           xlabel='Predicted label')\n",
    "\n",
    "    # Rotate the tick labels and set their alignment.\n",
    "    plt.setp(ax.get_xticklabels(), rotation=45, ha=\"right\",\n",
    "             rotation_mode=\"anchor\")\n",
    "\n",
    "    # Loop over data dimensions and create text annotations.\n",
    "    fmt = '.2f' if normalize else 'd'\n",
    "    thresh = cm.max() / 2.\n",
    "    for i in range(cm.shape[0]):\n",
    "        for j in range(cm.shape[1]):\n",
    "            ax.text(j, i, format(cm[i, j], fmt),\n",
    "                    ha=\"center\", va=\"center\",\n",
    "                    color=\"white\" if cm[i, j] > thresh else \"black\")\n",
    "    fig.tight_layout()\n",
    "    return ax\n",
    "\n",
    "class_names = [0, 1, 2, 3, 4]\n",
    "# Plot non-normalized confusion matrix\n",
    "plot_confusion_matrix(Y_test, y_pred, classes=class_names,\n",
    "                      title='Confusion matrix, without normalization')\n",
    "\n",
    "# Plot normalized confusion matrix\n",
    "plot_confusion_matrix(Y_test, y_pred, classes=class_names, normalize=True,\n",
    "                      title='Normalized confusion matrix')\n",
    "\n",
    "plt.show()"
   ]
  },
  {
   "cell_type": "markdown",
   "metadata": {},
   "source": [
    "Fim do EP :)"
   ]
  },
  {
   "cell_type": "markdown",
   "metadata": {},
   "source": [
    "![ml](https://media.giphy.com/media/BdrSy2gqURFEk/giphy.gif)"
   ]
  }
 ],
 "metadata": {
  "kernelspec": {
   "display_name": "Python 3",
   "language": "python",
   "name": "python3"
  },
  "language_info": {
   "codemirror_mode": {
    "name": "ipython",
    "version": 3
   },
   "file_extension": ".py",
   "mimetype": "text/x-python",
   "name": "python",
   "nbconvert_exporter": "python",
   "pygments_lexer": "ipython3",
   "version": "3.7.1"
  }
 },
 "nbformat": 4,
 "nbformat_minor": 2
}
